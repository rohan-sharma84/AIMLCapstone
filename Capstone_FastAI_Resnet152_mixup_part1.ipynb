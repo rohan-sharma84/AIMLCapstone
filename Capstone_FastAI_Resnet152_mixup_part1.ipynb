{
  "nbformat": 4,
  "nbformat_minor": 0,
  "metadata": {
    "accelerator": "GPU",
    "colab": {
      "name": "Capstone_FastAI_Resnet152_mixup_part1",
      "provenance": [],
      "collapsed_sections": [],
      "mount_file_id": "1W-p_5_jGwT3GQrJo2JOhR5JPsU0yJFj_",
      "authorship_tag": "ABX9TyNi92ZWhBl0kAG5zD+6B8aQ",
      "include_colab_link": true
    },
    "kernelspec": {
      "display_name": "Python 3",
      "name": "python3"
    }
  },
  "cells": [
    {
      "cell_type": "markdown",
      "metadata": {
        "id": "view-in-github",
        "colab_type": "text"
      },
      "source": [
        "<a href=\"https://colab.research.google.com/github/rohan-sharma84/AIMLCapstone/blob/main/Capstone_FastAI_Resnet152_mixup_part1.ipynb\" target=\"_parent\"><img src=\"https://colab.research.google.com/assets/colab-badge.svg\" alt=\"Open In Colab\"/></a>"
      ]
    },
    {
      "cell_type": "code",
      "metadata": {
        "colab": {
          "base_uri": "https://localhost:8080/"
        },
        "id": "dYv1mDAtOCtO",
        "outputId": "5ee472d6-5754-4a78-f0eb-a3aa6390b978"
      },
      "source": [
        "from google.colab import drive\n",
        "drive.mount('/content/drive/')"
      ],
      "execution_count": null,
      "outputs": [
        {
          "output_type": "stream",
          "text": [
            "Drive already mounted at /content/drive/; to attempt to forcibly remount, call drive.mount(\"/content/drive/\", force_remount=True).\n"
          ],
          "name": "stdout"
        }
      ]
    },
    {
      "cell_type": "code",
      "metadata": {
        "colab": {
          "base_uri": "https://localhost:8080/"
        },
        "id": "UhhyvnN1AUBS",
        "outputId": "e162ee98-8373-4ee5-a918-864cf3a2dcb3"
      },
      "source": [
        "import numpy as np\n",
        "import pandas as pd\n",
        "import matplotlib.pyplot as plt\n",
        "import h5py \n",
        "\n",
        "from fastai import *\n",
        "from fastai.vision import *\n",
        "from fastai.callbacks.hooks import *\n",
        "\n",
        "import torch\n",
        "print('pytorch version: ',torch.__version__)\n",
        "import torch.utils.data as data\n",
        "import fastai\n",
        "print('fastai version: ',fastai.__version__)\n",
        "import torchvision.models\n",
        "import warnings; warnings.filterwarnings('ignore')\n",
        "import torch\n",
        "torch.cuda.empty_cache()"
      ],
      "execution_count": null,
      "outputs": [
        {
          "output_type": "stream",
          "text": [
            "pytorch version:  1.8.0+cu101\n",
            "fastai version:  1.0.61\n"
          ],
          "name": "stdout"
        }
      ]
    },
    {
      "cell_type": "code",
      "metadata": {
        "colab": {
          "base_uri": "https://localhost:8080/"
        },
        "id": "-E18wpY1BE4H",
        "outputId": "45bef355-c21a-4aea-c1c4-24d1107ae9a5"
      },
      "source": [
        "img_dir = '/content/drive/MyDrive/CapstoneProject/Data/car_data/car_data/train/'\n",
        "path = Path(img_dir)\n",
        "path.ls()"
      ],
      "execution_count": null,
      "outputs": [
        {
          "output_type": "execute_result",
          "data": {
            "text/plain": [
              "[PosixPath('/content/drive/MyDrive/CapstoneProject/Data/car_data/car_data/train/AM General Hummer SUV 2000'),\n",
              " PosixPath('/content/drive/MyDrive/CapstoneProject/Data/car_data/car_data/train/Acura Integra Type R 2001'),\n",
              " PosixPath('/content/drive/MyDrive/CapstoneProject/Data/car_data/car_data/train/Acura RL Sedan 2012'),\n",
              " PosixPath('/content/drive/MyDrive/CapstoneProject/Data/car_data/car_data/train/Acura TL Sedan 2012'),\n",
              " PosixPath('/content/drive/MyDrive/CapstoneProject/Data/car_data/car_data/train/Acura TL Type-S 2008'),\n",
              " PosixPath('/content/drive/MyDrive/CapstoneProject/Data/car_data/car_data/train/Acura TSX Sedan 2012'),\n",
              " PosixPath('/content/drive/MyDrive/CapstoneProject/Data/car_data/car_data/train/Acura ZDX Hatchback 2012'),\n",
              " PosixPath('/content/drive/MyDrive/CapstoneProject/Data/car_data/car_data/train/Aston Martin V8 Vantage Convertible 2012'),\n",
              " PosixPath('/content/drive/MyDrive/CapstoneProject/Data/car_data/car_data/train/Aston Martin V8 Vantage Coupe 2012'),\n",
              " PosixPath('/content/drive/MyDrive/CapstoneProject/Data/car_data/car_data/train/Aston Martin Virage Convertible 2012'),\n",
              " PosixPath('/content/drive/MyDrive/CapstoneProject/Data/car_data/car_data/train/Aston Martin Virage Coupe 2012'),\n",
              " PosixPath('/content/drive/MyDrive/CapstoneProject/Data/car_data/car_data/train/Audi 100 Sedan 1994'),\n",
              " PosixPath('/content/drive/MyDrive/CapstoneProject/Data/car_data/car_data/train/Audi 100 Wagon 1994'),\n",
              " PosixPath('/content/drive/MyDrive/CapstoneProject/Data/car_data/car_data/train/Audi A5 Coupe 2012'),\n",
              " PosixPath('/content/drive/MyDrive/CapstoneProject/Data/car_data/car_data/train/Audi R8 Coupe 2012'),\n",
              " PosixPath('/content/drive/MyDrive/CapstoneProject/Data/car_data/car_data/train/Audi RS 4 Convertible 2008'),\n",
              " PosixPath('/content/drive/MyDrive/CapstoneProject/Data/car_data/car_data/train/Audi S4 Sedan 2007'),\n",
              " PosixPath('/content/drive/MyDrive/CapstoneProject/Data/car_data/car_data/train/Audi S4 Sedan 2012'),\n",
              " PosixPath('/content/drive/MyDrive/CapstoneProject/Data/car_data/car_data/train/Audi S5 Convertible 2012'),\n",
              " PosixPath('/content/drive/MyDrive/CapstoneProject/Data/car_data/car_data/train/Audi S5 Coupe 2012'),\n",
              " PosixPath('/content/drive/MyDrive/CapstoneProject/Data/car_data/car_data/train/Audi S6 Sedan 2011'),\n",
              " PosixPath('/content/drive/MyDrive/CapstoneProject/Data/car_data/car_data/train/Audi TT Hatchback 2011'),\n",
              " PosixPath('/content/drive/MyDrive/CapstoneProject/Data/car_data/car_data/train/Audi TT RS Coupe 2012'),\n",
              " PosixPath('/content/drive/MyDrive/CapstoneProject/Data/car_data/car_data/train/Audi TTS Coupe 2012'),\n",
              " PosixPath('/content/drive/MyDrive/CapstoneProject/Data/car_data/car_data/train/Audi V8 Sedan 1994'),\n",
              " PosixPath('/content/drive/MyDrive/CapstoneProject/Data/car_data/car_data/train/BMW 1 Series Convertible 2012'),\n",
              " PosixPath('/content/drive/MyDrive/CapstoneProject/Data/car_data/car_data/train/BMW 1 Series Coupe 2012'),\n",
              " PosixPath('/content/drive/MyDrive/CapstoneProject/Data/car_data/car_data/train/BMW 3 Series Sedan 2012'),\n",
              " PosixPath('/content/drive/MyDrive/CapstoneProject/Data/car_data/car_data/train/BMW 3 Series Wagon 2012'),\n",
              " PosixPath('/content/drive/MyDrive/CapstoneProject/Data/car_data/car_data/train/BMW 6 Series Convertible 2007'),\n",
              " PosixPath('/content/drive/MyDrive/CapstoneProject/Data/car_data/car_data/train/BMW ActiveHybrid 5 Sedan 2012'),\n",
              " PosixPath('/content/drive/MyDrive/CapstoneProject/Data/car_data/car_data/train/BMW M3 Coupe 2012'),\n",
              " PosixPath('/content/drive/MyDrive/CapstoneProject/Data/car_data/car_data/train/BMW M5 Sedan 2010'),\n",
              " PosixPath('/content/drive/MyDrive/CapstoneProject/Data/car_data/car_data/train/BMW M6 Convertible 2010'),\n",
              " PosixPath('/content/drive/MyDrive/CapstoneProject/Data/car_data/car_data/train/BMW X3 SUV 2012'),\n",
              " PosixPath('/content/drive/MyDrive/CapstoneProject/Data/car_data/car_data/train/BMW X5 SUV 2007'),\n",
              " PosixPath('/content/drive/MyDrive/CapstoneProject/Data/car_data/car_data/train/BMW X6 SUV 2012'),\n",
              " PosixPath('/content/drive/MyDrive/CapstoneProject/Data/car_data/car_data/train/BMW Z4 Convertible 2012'),\n",
              " PosixPath('/content/drive/MyDrive/CapstoneProject/Data/car_data/car_data/train/Bentley Arnage Sedan 2009'),\n",
              " PosixPath('/content/drive/MyDrive/CapstoneProject/Data/car_data/car_data/train/Bentley Continental Flying Spur Sedan 2007'),\n",
              " PosixPath('/content/drive/MyDrive/CapstoneProject/Data/car_data/car_data/train/Bentley Continental GT Coupe 2007'),\n",
              " PosixPath('/content/drive/MyDrive/CapstoneProject/Data/car_data/car_data/train/Bentley Continental GT Coupe 2012'),\n",
              " PosixPath('/content/drive/MyDrive/CapstoneProject/Data/car_data/car_data/train/Bentley Continental Supersports Conv. Convertible 2012'),\n",
              " PosixPath('/content/drive/MyDrive/CapstoneProject/Data/car_data/car_data/train/Bentley Mulsanne Sedan 2011'),\n",
              " PosixPath('/content/drive/MyDrive/CapstoneProject/Data/car_data/car_data/train/Bugatti Veyron 16.4 Convertible 2009'),\n",
              " PosixPath('/content/drive/MyDrive/CapstoneProject/Data/car_data/car_data/train/Bugatti Veyron 16.4 Coupe 2009'),\n",
              " PosixPath('/content/drive/MyDrive/CapstoneProject/Data/car_data/car_data/train/Buick Enclave SUV 2012'),\n",
              " PosixPath('/content/drive/MyDrive/CapstoneProject/Data/car_data/car_data/train/Buick Rainier SUV 2007'),\n",
              " PosixPath('/content/drive/MyDrive/CapstoneProject/Data/car_data/car_data/train/Buick Regal GS 2012'),\n",
              " PosixPath('/content/drive/MyDrive/CapstoneProject/Data/car_data/car_data/train/Buick Verano Sedan 2012'),\n",
              " PosixPath('/content/drive/MyDrive/CapstoneProject/Data/car_data/car_data/train/Cadillac CTS-V Sedan 2012'),\n",
              " PosixPath('/content/drive/MyDrive/CapstoneProject/Data/car_data/car_data/train/Cadillac Escalade EXT Crew Cab 2007'),\n",
              " PosixPath('/content/drive/MyDrive/CapstoneProject/Data/car_data/car_data/train/Cadillac SRX SUV 2012'),\n",
              " PosixPath('/content/drive/MyDrive/CapstoneProject/Data/car_data/car_data/train/Chevrolet Avalanche Crew Cab 2012'),\n",
              " PosixPath('/content/drive/MyDrive/CapstoneProject/Data/car_data/car_data/train/Chevrolet Camaro Convertible 2012'),\n",
              " PosixPath('/content/drive/MyDrive/CapstoneProject/Data/car_data/car_data/train/Chevrolet Cobalt SS 2010'),\n",
              " PosixPath('/content/drive/MyDrive/CapstoneProject/Data/car_data/car_data/train/Chevrolet Corvette Convertible 2012'),\n",
              " PosixPath('/content/drive/MyDrive/CapstoneProject/Data/car_data/car_data/train/Chevrolet Corvette Ron Fellows Edition Z06 2007'),\n",
              " PosixPath('/content/drive/MyDrive/CapstoneProject/Data/car_data/car_data/train/Chevrolet Corvette ZR1 2012'),\n",
              " PosixPath('/content/drive/MyDrive/CapstoneProject/Data/car_data/car_data/train/Chevrolet Express Cargo Van 2007'),\n",
              " PosixPath('/content/drive/MyDrive/CapstoneProject/Data/car_data/car_data/train/Chevrolet Express Van 2007'),\n",
              " PosixPath('/content/drive/MyDrive/CapstoneProject/Data/car_data/car_data/train/Chevrolet HHR SS 2010'),\n",
              " PosixPath('/content/drive/MyDrive/CapstoneProject/Data/car_data/car_data/train/Chevrolet Impala Sedan 2007'),\n",
              " PosixPath('/content/drive/MyDrive/CapstoneProject/Data/car_data/car_data/train/Chevrolet Malibu Hybrid Sedan 2010'),\n",
              " PosixPath('/content/drive/MyDrive/CapstoneProject/Data/car_data/car_data/train/Chevrolet Malibu Sedan 2007'),\n",
              " PosixPath('/content/drive/MyDrive/CapstoneProject/Data/car_data/car_data/train/Chevrolet Monte Carlo Coupe 2007'),\n",
              " PosixPath('/content/drive/MyDrive/CapstoneProject/Data/car_data/car_data/train/Chevrolet Silverado 1500 Classic Extended Cab 2007'),\n",
              " PosixPath('/content/drive/MyDrive/CapstoneProject/Data/car_data/car_data/train/Chevrolet Silverado 1500 Extended Cab 2012'),\n",
              " PosixPath('/content/drive/MyDrive/CapstoneProject/Data/car_data/car_data/train/Chevrolet Silverado 1500 Hybrid Crew Cab 2012'),\n",
              " PosixPath('/content/drive/MyDrive/CapstoneProject/Data/car_data/car_data/train/Chevrolet Silverado 1500 Regular Cab 2012'),\n",
              " PosixPath('/content/drive/MyDrive/CapstoneProject/Data/car_data/car_data/train/Chevrolet Silverado 2500HD Regular Cab 2012'),\n",
              " PosixPath('/content/drive/MyDrive/CapstoneProject/Data/car_data/car_data/train/Chevrolet Sonic Sedan 2012'),\n",
              " PosixPath('/content/drive/MyDrive/CapstoneProject/Data/car_data/car_data/train/Chevrolet Tahoe Hybrid SUV 2012'),\n",
              " PosixPath('/content/drive/MyDrive/CapstoneProject/Data/car_data/car_data/train/Chevrolet TrailBlazer SS 2009'),\n",
              " PosixPath('/content/drive/MyDrive/CapstoneProject/Data/car_data/car_data/train/Chevrolet Traverse SUV 2012'),\n",
              " PosixPath('/content/drive/MyDrive/CapstoneProject/Data/car_data/car_data/train/Chrysler 300 SRT-8 2010'),\n",
              " PosixPath('/content/drive/MyDrive/CapstoneProject/Data/car_data/car_data/train/Chrysler Aspen SUV 2009'),\n",
              " PosixPath('/content/drive/MyDrive/CapstoneProject/Data/car_data/car_data/train/Chrysler Crossfire Convertible 2008'),\n",
              " PosixPath('/content/drive/MyDrive/CapstoneProject/Data/car_data/car_data/train/Chrysler PT Cruiser Convertible 2008'),\n",
              " PosixPath('/content/drive/MyDrive/CapstoneProject/Data/car_data/car_data/train/Chrysler Sebring Convertible 2010'),\n",
              " PosixPath('/content/drive/MyDrive/CapstoneProject/Data/car_data/car_data/train/Chrysler Town and Country Minivan 2012'),\n",
              " PosixPath('/content/drive/MyDrive/CapstoneProject/Data/car_data/car_data/train/Daewoo Nubira Wagon 2002'),\n",
              " PosixPath('/content/drive/MyDrive/CapstoneProject/Data/car_data/car_data/train/Dodge Caliber Wagon 2007'),\n",
              " PosixPath('/content/drive/MyDrive/CapstoneProject/Data/car_data/car_data/train/Dodge Caliber Wagon 2012'),\n",
              " PosixPath('/content/drive/MyDrive/CapstoneProject/Data/car_data/car_data/train/Dodge Caravan Minivan 1997'),\n",
              " PosixPath('/content/drive/MyDrive/CapstoneProject/Data/car_data/car_data/train/Dodge Challenger SRT8 2011'),\n",
              " PosixPath('/content/drive/MyDrive/CapstoneProject/Data/car_data/car_data/train/Dodge Charger SRT-8 2009'),\n",
              " PosixPath('/content/drive/MyDrive/CapstoneProject/Data/car_data/car_data/train/Dodge Charger Sedan 2012'),\n",
              " PosixPath('/content/drive/MyDrive/CapstoneProject/Data/car_data/car_data/train/Dodge Dakota Club Cab 2007'),\n",
              " PosixPath('/content/drive/MyDrive/CapstoneProject/Data/car_data/car_data/train/Dodge Dakota Crew Cab 2010'),\n",
              " PosixPath('/content/drive/MyDrive/CapstoneProject/Data/car_data/car_data/train/Dodge Durango SUV 2007'),\n",
              " PosixPath('/content/drive/MyDrive/CapstoneProject/Data/car_data/car_data/train/Dodge Durango SUV 2012'),\n",
              " PosixPath('/content/drive/MyDrive/CapstoneProject/Data/car_data/car_data/train/Dodge Journey SUV 2012'),\n",
              " PosixPath('/content/drive/MyDrive/CapstoneProject/Data/car_data/car_data/train/Dodge Magnum Wagon 2008'),\n",
              " PosixPath('/content/drive/MyDrive/CapstoneProject/Data/car_data/car_data/train/Dodge Ram Pickup 3500 Crew Cab 2010'),\n",
              " PosixPath('/content/drive/MyDrive/CapstoneProject/Data/car_data/car_data/train/Dodge Ram Pickup 3500 Quad Cab 2009'),\n",
              " PosixPath('/content/drive/MyDrive/CapstoneProject/Data/car_data/car_data/train/Dodge Sprinter Cargo Van 2009'),\n",
              " PosixPath('/content/drive/MyDrive/CapstoneProject/Data/car_data/car_data/train/Eagle Talon Hatchback 1998'),\n",
              " PosixPath('/content/drive/MyDrive/CapstoneProject/Data/car_data/car_data/train/FIAT 500 Abarth 2012'),\n",
              " PosixPath('/content/drive/MyDrive/CapstoneProject/Data/car_data/car_data/train/FIAT 500 Convertible 2012'),\n",
              " PosixPath('/content/drive/MyDrive/CapstoneProject/Data/car_data/car_data/train/Ferrari 458 Italia Convertible 2012'),\n",
              " PosixPath('/content/drive/MyDrive/CapstoneProject/Data/car_data/car_data/train/Ferrari 458 Italia Coupe 2012'),\n",
              " PosixPath('/content/drive/MyDrive/CapstoneProject/Data/car_data/car_data/train/Ferrari California Convertible 2012'),\n",
              " PosixPath('/content/drive/MyDrive/CapstoneProject/Data/car_data/car_data/train/Ferrari FF Coupe 2012'),\n",
              " PosixPath('/content/drive/MyDrive/CapstoneProject/Data/car_data/car_data/train/Fisker Karma Sedan 2012'),\n",
              " PosixPath('/content/drive/MyDrive/CapstoneProject/Data/car_data/car_data/train/Ford E-Series Wagon Van 2012'),\n",
              " PosixPath('/content/drive/MyDrive/CapstoneProject/Data/car_data/car_data/train/Ford Edge SUV 2012'),\n",
              " PosixPath('/content/drive/MyDrive/CapstoneProject/Data/car_data/car_data/train/Ford Expedition EL SUV 2009'),\n",
              " PosixPath('/content/drive/MyDrive/CapstoneProject/Data/car_data/car_data/train/Ford F-150 Regular Cab 2007'),\n",
              " PosixPath('/content/drive/MyDrive/CapstoneProject/Data/car_data/car_data/train/Ford F-150 Regular Cab 2012'),\n",
              " PosixPath('/content/drive/MyDrive/CapstoneProject/Data/car_data/car_data/train/Ford F-450 Super Duty Crew Cab 2012'),\n",
              " PosixPath('/content/drive/MyDrive/CapstoneProject/Data/car_data/car_data/train/Ford Fiesta Sedan 2012'),\n",
              " PosixPath('/content/drive/MyDrive/CapstoneProject/Data/car_data/car_data/train/Ford Focus Sedan 2007'),\n",
              " PosixPath('/content/drive/MyDrive/CapstoneProject/Data/car_data/car_data/train/Ford Freestar Minivan 2007'),\n",
              " PosixPath('/content/drive/MyDrive/CapstoneProject/Data/car_data/car_data/train/Ford GT Coupe 2006'),\n",
              " PosixPath('/content/drive/MyDrive/CapstoneProject/Data/car_data/car_data/train/Ford Mustang Convertible 2007'),\n",
              " PosixPath('/content/drive/MyDrive/CapstoneProject/Data/car_data/car_data/train/Ford Ranger SuperCab 2011'),\n",
              " PosixPath('/content/drive/MyDrive/CapstoneProject/Data/car_data/car_data/train/GMC Acadia SUV 2012'),\n",
              " PosixPath('/content/drive/MyDrive/CapstoneProject/Data/car_data/car_data/train/GMC Canyon Extended Cab 2012'),\n",
              " PosixPath('/content/drive/MyDrive/CapstoneProject/Data/car_data/car_data/train/GMC Savana Van 2012'),\n",
              " PosixPath('/content/drive/MyDrive/CapstoneProject/Data/car_data/car_data/train/GMC Terrain SUV 2012'),\n",
              " PosixPath('/content/drive/MyDrive/CapstoneProject/Data/car_data/car_data/train/GMC Yukon Hybrid SUV 2012'),\n",
              " PosixPath('/content/drive/MyDrive/CapstoneProject/Data/car_data/car_data/train/Geo Metro Convertible 1993'),\n",
              " PosixPath('/content/drive/MyDrive/CapstoneProject/Data/car_data/car_data/train/HUMMER H2 SUT Crew Cab 2009'),\n",
              " PosixPath('/content/drive/MyDrive/CapstoneProject/Data/car_data/car_data/train/HUMMER H3T Crew Cab 2010'),\n",
              " PosixPath('/content/drive/MyDrive/CapstoneProject/Data/car_data/car_data/train/Honda Accord Coupe 2012'),\n",
              " PosixPath('/content/drive/MyDrive/CapstoneProject/Data/car_data/car_data/train/Honda Accord Sedan 2012'),\n",
              " PosixPath('/content/drive/MyDrive/CapstoneProject/Data/car_data/car_data/train/Honda Odyssey Minivan 2007'),\n",
              " PosixPath('/content/drive/MyDrive/CapstoneProject/Data/car_data/car_data/train/Honda Odyssey Minivan 2012'),\n",
              " PosixPath('/content/drive/MyDrive/CapstoneProject/Data/car_data/car_data/train/Hyundai Accent Sedan 2012'),\n",
              " PosixPath('/content/drive/MyDrive/CapstoneProject/Data/car_data/car_data/train/Hyundai Azera Sedan 2012'),\n",
              " PosixPath('/content/drive/MyDrive/CapstoneProject/Data/car_data/car_data/train/Hyundai Elantra Sedan 2007'),\n",
              " PosixPath('/content/drive/MyDrive/CapstoneProject/Data/car_data/car_data/train/Hyundai Elantra Touring Hatchback 2012'),\n",
              " PosixPath('/content/drive/MyDrive/CapstoneProject/Data/car_data/car_data/train/Hyundai Genesis Sedan 2012'),\n",
              " PosixPath('/content/drive/MyDrive/CapstoneProject/Data/car_data/car_data/train/Hyundai Santa Fe SUV 2012'),\n",
              " PosixPath('/content/drive/MyDrive/CapstoneProject/Data/car_data/car_data/train/Hyundai Sonata Hybrid Sedan 2012'),\n",
              " PosixPath('/content/drive/MyDrive/CapstoneProject/Data/car_data/car_data/train/Hyundai Sonata Sedan 2012'),\n",
              " PosixPath('/content/drive/MyDrive/CapstoneProject/Data/car_data/car_data/train/Hyundai Tucson SUV 2012'),\n",
              " PosixPath('/content/drive/MyDrive/CapstoneProject/Data/car_data/car_data/train/Hyundai Veloster Hatchback 2012'),\n",
              " PosixPath('/content/drive/MyDrive/CapstoneProject/Data/car_data/car_data/train/Hyundai Veracruz SUV 2012'),\n",
              " PosixPath('/content/drive/MyDrive/CapstoneProject/Data/car_data/car_data/train/Infiniti G Coupe IPL 2012'),\n",
              " PosixPath('/content/drive/MyDrive/CapstoneProject/Data/car_data/car_data/train/Infiniti QX56 SUV 2011'),\n",
              " PosixPath('/content/drive/MyDrive/CapstoneProject/Data/car_data/car_data/train/Isuzu Ascender SUV 2008'),\n",
              " PosixPath('/content/drive/MyDrive/CapstoneProject/Data/car_data/car_data/train/Jaguar XK XKR 2012'),\n",
              " PosixPath('/content/drive/MyDrive/CapstoneProject/Data/car_data/car_data/train/Jeep Compass SUV 2012'),\n",
              " PosixPath('/content/drive/MyDrive/CapstoneProject/Data/car_data/car_data/train/Jeep Grand Cherokee SUV 2012'),\n",
              " PosixPath('/content/drive/MyDrive/CapstoneProject/Data/car_data/car_data/train/Jeep Liberty SUV 2012'),\n",
              " PosixPath('/content/drive/MyDrive/CapstoneProject/Data/car_data/car_data/train/Jeep Patriot SUV 2012'),\n",
              " PosixPath('/content/drive/MyDrive/CapstoneProject/Data/car_data/car_data/train/Jeep Wrangler SUV 2012'),\n",
              " PosixPath('/content/drive/MyDrive/CapstoneProject/Data/car_data/car_data/train/Lamborghini Aventador Coupe 2012'),\n",
              " PosixPath('/content/drive/MyDrive/CapstoneProject/Data/car_data/car_data/train/Lamborghini Diablo Coupe 2001'),\n",
              " PosixPath('/content/drive/MyDrive/CapstoneProject/Data/car_data/car_data/train/Lamborghini Gallardo LP 570-4 Superleggera 2012'),\n",
              " PosixPath('/content/drive/MyDrive/CapstoneProject/Data/car_data/car_data/train/Lamborghini Reventon Coupe 2008'),\n",
              " PosixPath('/content/drive/MyDrive/CapstoneProject/Data/car_data/car_data/train/Land Rover LR2 SUV 2012'),\n",
              " PosixPath('/content/drive/MyDrive/CapstoneProject/Data/car_data/car_data/train/Land Rover Range Rover SUV 2012'),\n",
              " PosixPath('/content/drive/MyDrive/CapstoneProject/Data/car_data/car_data/train/Lincoln Town Car Sedan 2011'),\n",
              " PosixPath('/content/drive/MyDrive/CapstoneProject/Data/car_data/car_data/train/MINI Cooper Roadster Convertible 2012'),\n",
              " PosixPath('/content/drive/MyDrive/CapstoneProject/Data/car_data/car_data/train/Maybach Landaulet Convertible 2012'),\n",
              " PosixPath('/content/drive/MyDrive/CapstoneProject/Data/car_data/car_data/train/Mazda Tribute SUV 2011'),\n",
              " PosixPath('/content/drive/MyDrive/CapstoneProject/Data/car_data/car_data/train/McLaren MP4-12C Coupe 2012'),\n",
              " PosixPath('/content/drive/MyDrive/CapstoneProject/Data/car_data/car_data/train/Mercedes-Benz 300-Class Convertible 1993'),\n",
              " PosixPath('/content/drive/MyDrive/CapstoneProject/Data/car_data/car_data/train/Mercedes-Benz C-Class Sedan 2012'),\n",
              " PosixPath('/content/drive/MyDrive/CapstoneProject/Data/car_data/car_data/train/Mercedes-Benz E-Class Sedan 2012'),\n",
              " PosixPath('/content/drive/MyDrive/CapstoneProject/Data/car_data/car_data/train/Mercedes-Benz S-Class Sedan 2012'),\n",
              " PosixPath('/content/drive/MyDrive/CapstoneProject/Data/car_data/car_data/train/Mercedes-Benz SL-Class Coupe 2009'),\n",
              " PosixPath('/content/drive/MyDrive/CapstoneProject/Data/car_data/car_data/train/Mercedes-Benz Sprinter Van 2012'),\n",
              " PosixPath('/content/drive/MyDrive/CapstoneProject/Data/car_data/car_data/train/Mitsubishi Lancer Sedan 2012'),\n",
              " PosixPath('/content/drive/MyDrive/CapstoneProject/Data/car_data/car_data/train/Nissan 240SX Coupe 1998'),\n",
              " PosixPath('/content/drive/MyDrive/CapstoneProject/Data/car_data/car_data/train/Nissan Juke Hatchback 2012'),\n",
              " PosixPath('/content/drive/MyDrive/CapstoneProject/Data/car_data/car_data/train/Nissan Leaf Hatchback 2012'),\n",
              " PosixPath('/content/drive/MyDrive/CapstoneProject/Data/car_data/car_data/train/Nissan NV Passenger Van 2012'),\n",
              " PosixPath('/content/drive/MyDrive/CapstoneProject/Data/car_data/car_data/train/Plymouth Neon Coupe 1999'),\n",
              " PosixPath('/content/drive/MyDrive/CapstoneProject/Data/car_data/car_data/train/Porsche Panamera Sedan 2012'),\n",
              " PosixPath('/content/drive/MyDrive/CapstoneProject/Data/car_data/car_data/train/Ram C-V Cargo Van Minivan 2012'),\n",
              " PosixPath('/content/drive/MyDrive/CapstoneProject/Data/car_data/car_data/train/Rolls-Royce Ghost Sedan 2012'),\n",
              " PosixPath('/content/drive/MyDrive/CapstoneProject/Data/car_data/car_data/train/Rolls-Royce Phantom Drophead Coupe Convertible 2012'),\n",
              " PosixPath('/content/drive/MyDrive/CapstoneProject/Data/car_data/car_data/train/Rolls-Royce Phantom Sedan 2012'),\n",
              " PosixPath('/content/drive/MyDrive/CapstoneProject/Data/car_data/car_data/train/Scion xD Hatchback 2012'),\n",
              " PosixPath('/content/drive/MyDrive/CapstoneProject/Data/car_data/car_data/train/Spyker C8 Convertible 2009'),\n",
              " PosixPath('/content/drive/MyDrive/CapstoneProject/Data/car_data/car_data/train/Spyker C8 Coupe 2009'),\n",
              " PosixPath('/content/drive/MyDrive/CapstoneProject/Data/car_data/car_data/train/Suzuki Aerio Sedan 2007'),\n",
              " PosixPath('/content/drive/MyDrive/CapstoneProject/Data/car_data/car_data/train/Suzuki Kizashi Sedan 2012'),\n",
              " PosixPath('/content/drive/MyDrive/CapstoneProject/Data/car_data/car_data/train/Suzuki SX4 Hatchback 2012'),\n",
              " PosixPath('/content/drive/MyDrive/CapstoneProject/Data/car_data/car_data/train/Suzuki SX4 Sedan 2012'),\n",
              " PosixPath('/content/drive/MyDrive/CapstoneProject/Data/car_data/car_data/train/Tesla Model S Sedan 2012'),\n",
              " PosixPath('/content/drive/MyDrive/CapstoneProject/Data/car_data/car_data/train/Toyota 4Runner SUV 2012'),\n",
              " PosixPath('/content/drive/MyDrive/CapstoneProject/Data/car_data/car_data/train/Toyota Camry Sedan 2012'),\n",
              " PosixPath('/content/drive/MyDrive/CapstoneProject/Data/car_data/car_data/train/Toyota Corolla Sedan 2012'),\n",
              " PosixPath('/content/drive/MyDrive/CapstoneProject/Data/car_data/car_data/train/Toyota Sequoia SUV 2012'),\n",
              " PosixPath('/content/drive/MyDrive/CapstoneProject/Data/car_data/car_data/train/Volkswagen Beetle Hatchback 2012'),\n",
              " PosixPath('/content/drive/MyDrive/CapstoneProject/Data/car_data/car_data/train/Volkswagen Golf Hatchback 1991'),\n",
              " PosixPath('/content/drive/MyDrive/CapstoneProject/Data/car_data/car_data/train/Volkswagen Golf Hatchback 2012'),\n",
              " PosixPath('/content/drive/MyDrive/CapstoneProject/Data/car_data/car_data/train/Volvo 240 Sedan 1993'),\n",
              " PosixPath('/content/drive/MyDrive/CapstoneProject/Data/car_data/car_data/train/Volvo C30 Hatchback 2012'),\n",
              " PosixPath('/content/drive/MyDrive/CapstoneProject/Data/car_data/car_data/train/Volvo XC90 SUV 2007'),\n",
              " PosixPath('/content/drive/MyDrive/CapstoneProject/Data/car_data/car_data/train/smart fortwo Convertible 2012')]"
            ]
          },
          "metadata": {
            "tags": []
          },
          "execution_count": 3
        }
      ]
    },
    {
      "cell_type": "code",
      "metadata": {
        "id": "gEHN9Em5BYkN"
      },
      "source": [
        "\n",
        "## Transformation for Data Augmentation - default augmentaion\n",
        "tfms = get_transforms()\n",
        "data = ImageDataBunch.from_folder(f'{path}',valid_pct = 0.2,size = 300,seed=1984,ds_tfms = tfms,bs = 16).normalize(imagenet_stats)\n"
      ],
      "execution_count": null,
      "outputs": []
    },
    {
      "cell_type": "code",
      "metadata": {
        "colab": {
          "base_uri": "https://localhost:8080/"
        },
        "id": "9zCY9-PXvsVM",
        "outputId": "f50334bc-fe0f-4db5-8954-dcf657602fd5"
      },
      "source": [
        "data"
      ],
      "execution_count": null,
      "outputs": [
        {
          "output_type": "execute_result",
          "data": {
            "text/plain": [
              "ImageDataBunch;\n",
              "\n",
              "Train: LabelList (6516 items)\n",
              "x: ImageList\n",
              "Image (3, 300, 300),Image (3, 300, 300),Image (3, 300, 300),Image (3, 300, 300),Image (3, 300, 300)\n",
              "y: CategoryList\n",
              "AM General Hummer SUV 2000,AM General Hummer SUV 2000,AM General Hummer SUV 2000,AM General Hummer SUV 2000,AM General Hummer SUV 2000\n",
              "Path: /content/drive/MyDrive/CapstoneProject/Data/car_data/car_data/train;\n",
              "\n",
              "Valid: LabelList (1628 items)\n",
              "x: ImageList\n",
              "Image (3, 300, 300),Image (3, 300, 300),Image (3, 300, 300),Image (3, 300, 300),Image (3, 300, 300)\n",
              "y: CategoryList\n",
              "Chrysler PT Cruiser Convertible 2008,Volvo XC90 SUV 2007,Audi RS 4 Convertible 2008,Chevrolet TrailBlazer SS 2009,Chevrolet Monte Carlo Coupe 2007\n",
              "Path: /content/drive/MyDrive/CapstoneProject/Data/car_data/car_data/train;\n",
              "\n",
              "Test: None"
            ]
          },
          "metadata": {
            "tags": []
          },
          "execution_count": 5
        }
      ]
    },
    {
      "cell_type": "code",
      "metadata": {
        "colab": {
          "base_uri": "https://localhost:8080/"
        },
        "id": "NqmIlqMmBYqM",
        "outputId": "fde99d6d-8a3e-4234-aa90-08864d8c6512"
      },
      "source": [
        "for classes, numbers in enumerate(data.classes[:15]):\n",
        "    print(classes,':',numbers)\n",
        "len(data.classes),data.c"
      ],
      "execution_count": null,
      "outputs": [
        {
          "output_type": "stream",
          "text": [
            "0 : AM General Hummer SUV 2000\n",
            "1 : Acura Integra Type R 2001\n",
            "2 : Acura RL Sedan 2012\n",
            "3 : Acura TL Sedan 2012\n",
            "4 : Acura TL Type-S 2008\n",
            "5 : Acura TSX Sedan 2012\n",
            "6 : Acura ZDX Hatchback 2012\n",
            "7 : Aston Martin V8 Vantage Convertible 2012\n",
            "8 : Aston Martin V8 Vantage Coupe 2012\n",
            "9 : Aston Martin Virage Convertible 2012\n",
            "10 : Aston Martin Virage Coupe 2012\n",
            "11 : Audi 100 Sedan 1994\n",
            "12 : Audi 100 Wagon 1994\n",
            "13 : Audi A5 Coupe 2012\n",
            "14 : Audi R8 Coupe 2012\n"
          ],
          "name": "stdout"
        },
        {
          "output_type": "execute_result",
          "data": {
            "text/plain": [
              "(196, 196)"
            ]
          },
          "metadata": {
            "tags": []
          },
          "execution_count": 6
        }
      ]
    },
    {
      "cell_type": "code",
      "metadata": {
        "id": "tzaBZg_2BYs-"
      },
      "source": [
        "#data.show_batch(rows = 3,figsize = (15,15))"
      ],
      "execution_count": null,
      "outputs": []
    },
    {
      "cell_type": "code",
      "metadata": {
        "id": "TH1gO-ggBYvM"
      },
      "source": [
        "\n",
        "learn = cnn_learner(data, models.resnet152, metrics=error_rate, model_dir=\"/content/drive/MyDrive/CapstoneProject/tmp/model/Resnetmixup\").mixup()"
      ],
      "execution_count": null,
      "outputs": []
    },
    {
      "cell_type": "code",
      "metadata": {
        "colab": {
          "base_uri": "https://localhost:8080/",
          "height": 120
        },
        "id": "d2Rcl7pGu7XS",
        "outputId": "66e9694e-51a7-4c53-9321-d26623aecf61"
      },
      "source": [
        "torch.cuda.memory_summary(device=None, abbreviated=False)"
      ],
      "execution_count": null,
      "outputs": [
        {
          "output_type": "execute_result",
          "data": {
            "application/vnd.google.colaboratory.intrinsic+json": {
              "type": "string"
            },
            "text/plain": [
              "'|===========================================================================|\\n|                  PyTorch CUDA memory summary, device ID 0                 |\\n|---------------------------------------------------------------------------|\\n|            CUDA OOMs: 0            |        cudaMalloc retries: 0         |\\n|===========================================================================|\\n|        Metric         | Cur Usage  | Peak Usage | Tot Alloc  | Tot Freed  |\\n|---------------------------------------------------------------------------|\\n| Allocated memory      |  236460 KB |  236460 KB |  472921 KB |  236460 KB |\\n|       from large pool |  151552 KB |  151552 KB |  303104 KB |  151552 KB |\\n|       from small pool |   84908 KB |   84908 KB |  169817 KB |   84908 KB |\\n|---------------------------------------------------------------------------|\\n| Active memory         |  236460 KB |  236460 KB |  472921 KB |  236460 KB |\\n|       from large pool |  151552 KB |  151552 KB |  303104 KB |  151552 KB |\\n|       from small pool |   84908 KB |   84908 KB |  169817 KB |   84908 KB |\\n|---------------------------------------------------------------------------|\\n| GPU reserved memory   |  249856 KB |  249856 KB |  249856 KB |       0 B  |\\n|       from large pool |  163840 KB |  163840 KB |  163840 KB |       0 B  |\\n|       from small pool |   86016 KB |   86016 KB |   86016 KB |       0 B  |\\n|---------------------------------------------------------------------------|\\n| Non-releasable memory |   13395 KB |   37982 KB |  518489 KB |  505093 KB |\\n|       from large pool |   12288 KB |   35840 KB |  376576 KB |  364288 KB |\\n|       from small pool |    1107 KB |   11886 KB |  141913 KB |  140805 KB |\\n|---------------------------------------------------------------------------|\\n| Allocations           |     944    |     944    |    1888    |     944    |\\n|       from large pool |      48    |      48    |      96    |      48    |\\n|       from small pool |     896    |     896    |    1792    |     896    |\\n|---------------------------------------------------------------------------|\\n| Active allocs         |     944    |     944    |    1888    |     944    |\\n|       from large pool |      48    |      48    |      96    |      48    |\\n|       from small pool |     896    |     896    |    1792    |     896    |\\n|---------------------------------------------------------------------------|\\n| GPU reserved segments |      50    |      50    |      50    |       0    |\\n|       from large pool |       8    |       8    |       8    |       0    |\\n|       from small pool |      42    |      42    |      42    |       0    |\\n|---------------------------------------------------------------------------|\\n| Non-releasable allocs |       7    |     165    |     309    |     302    |\\n|       from large pool |       5    |       6    |      24    |      19    |\\n|       from small pool |       2    |     163    |     285    |     283    |\\n|===========================================================================|\\n'"
            ]
          },
          "metadata": {
            "tags": []
          },
          "execution_count": 10
        }
      ]
    },
    {
      "cell_type": "code",
      "metadata": {
        "colab": {
          "base_uri": "https://localhost:8080/"
        },
        "id": "2i2c1xsgu_2d",
        "outputId": "ae81d0e8-de32-4a20-a7d2-755ddc0688ab"
      },
      "source": [
        "import gc\n",
        "gc.collect()"
      ],
      "execution_count": null,
      "outputs": [
        {
          "output_type": "execute_result",
          "data": {
            "text/plain": [
              "319"
            ]
          },
          "metadata": {
            "tags": []
          },
          "execution_count": 11
        }
      ]
    },
    {
      "cell_type": "code",
      "metadata": {
        "colab": {
          "base_uri": "https://localhost:8080/",
          "height": 266
        },
        "id": "uQW6tsGNCb0o",
        "outputId": "74429841-182c-405b-f84f-b07e08f53abd"
      },
      "source": [
        "learn.fit_one_cycle(7, max_lr=slice(1e-3))"
      ],
      "execution_count": null,
      "outputs": [
        {
          "output_type": "display_data",
          "data": {
            "text/html": [
              "<table border=\"1\" class=\"dataframe\">\n",
              "  <thead>\n",
              "    <tr style=\"text-align: left;\">\n",
              "      <th>epoch</th>\n",
              "      <th>train_loss</th>\n",
              "      <th>valid_loss</th>\n",
              "      <th>error_rate</th>\n",
              "      <th>time</th>\n",
              "    </tr>\n",
              "  </thead>\n",
              "  <tbody>\n",
              "    <tr>\n",
              "      <td>0</td>\n",
              "      <td>5.992939</td>\n",
              "      <td>4.314662</td>\n",
              "      <td>0.893735</td>\n",
              "      <td>24:24</td>\n",
              "    </tr>\n",
              "    <tr>\n",
              "      <td>1</td>\n",
              "      <td>4.758320</td>\n",
              "      <td>3.259054</td>\n",
              "      <td>0.745086</td>\n",
              "      <td>04:36</td>\n",
              "    </tr>\n",
              "    <tr>\n",
              "      <td>2</td>\n",
              "      <td>3.987985</td>\n",
              "      <td>2.474165</td>\n",
              "      <td>0.602580</td>\n",
              "      <td>04:36</td>\n",
              "    </tr>\n",
              "    <tr>\n",
              "      <td>3</td>\n",
              "      <td>3.459651</td>\n",
              "      <td>1.963251</td>\n",
              "      <td>0.492629</td>\n",
              "      <td>04:35</td>\n",
              "    </tr>\n",
              "    <tr>\n",
              "      <td>4</td>\n",
              "      <td>2.995059</td>\n",
              "      <td>1.657139</td>\n",
              "      <td>0.412776</td>\n",
              "      <td>04:35</td>\n",
              "    </tr>\n",
              "    <tr>\n",
              "      <td>5</td>\n",
              "      <td>2.804335</td>\n",
              "      <td>1.511760</td>\n",
              "      <td>0.371622</td>\n",
              "      <td>04:35</td>\n",
              "    </tr>\n",
              "    <tr>\n",
              "      <td>6</td>\n",
              "      <td>2.721594</td>\n",
              "      <td>1.484683</td>\n",
              "      <td>0.366093</td>\n",
              "      <td>04:36</td>\n",
              "    </tr>\n",
              "  </tbody>\n",
              "</table>"
            ],
            "text/plain": [
              "<IPython.core.display.HTML object>"
            ]
          },
          "metadata": {
            "tags": []
          }
        }
      ]
    },
    {
      "cell_type": "code",
      "metadata": {
        "id": "VBH54p22D2GQ"
      },
      "source": [
        "learn.save('ResNet152_freeze_step1')"
      ],
      "execution_count": null,
      "outputs": []
    },
    {
      "cell_type": "code",
      "metadata": {
        "id": "Ajs9WqfQD59h"
      },
      "source": [
        "learn.unfreeze()\n"
      ],
      "execution_count": null,
      "outputs": []
    },
    {
      "cell_type": "code",
      "metadata": {
        "id": "IiCDHo7JR-md",
        "colab": {
          "base_uri": "https://localhost:8080/",
          "height": 374
        },
        "outputId": "cfb55ae0-5958-4703-b0e8-4046b2c1e9ca"
      },
      "source": [
        "# look at the learning rate to not use the learning rates which causes the loss to diverge\n",
        "learn.lr_find()\n",
        "learn.recorder.plot()"
      ],
      "execution_count": null,
      "outputs": [
        {
          "output_type": "display_data",
          "data": {
            "text/html": [
              "\n",
              "    <div>\n",
              "        <style>\n",
              "            /* Turns off some styling */\n",
              "            progress {\n",
              "                /* gets rid of default border in Firefox and Opera. */\n",
              "                border: none;\n",
              "                /* Needs to be in here for Safari polyfill so background images work as expected. */\n",
              "                background-size: auto;\n",
              "            }\n",
              "            .progress-bar-interrupted, .progress-bar-interrupted::-webkit-progress-bar {\n",
              "                background: #F44336;\n",
              "            }\n",
              "        </style>\n",
              "      <progress value='0' class='' max='1' style='width:300px; height:20px; vertical-align: middle;'></progress>\n",
              "      0.00% [0/1 00:00<00:00]\n",
              "    </div>\n",
              "    \n",
              "<table border=\"1\" class=\"dataframe\">\n",
              "  <thead>\n",
              "    <tr style=\"text-align: left;\">\n",
              "      <th>epoch</th>\n",
              "      <th>train_loss</th>\n",
              "      <th>valid_loss</th>\n",
              "      <th>error_rate</th>\n",
              "      <th>time</th>\n",
              "    </tr>\n",
              "  </thead>\n",
              "  <tbody>\n",
              "  </tbody>\n",
              "</table><p>\n",
              "\n",
              "    <div>\n",
              "        <style>\n",
              "            /* Turns off some styling */\n",
              "            progress {\n",
              "                /* gets rid of default border in Firefox and Opera. */\n",
              "                border: none;\n",
              "                /* Needs to be in here for Safari polyfill so background images work as expected. */\n",
              "                background-size: auto;\n",
              "            }\n",
              "            .progress-bar-interrupted, .progress-bar-interrupted::-webkit-progress-bar {\n",
              "                background: #F44336;\n",
              "            }\n",
              "        </style>\n",
              "      <progress value='85' class='' max='407' style='width:300px; height:20px; vertical-align: middle;'></progress>\n",
              "      20.88% [85/407 01:02<03:56 8.1363]\n",
              "    </div>\n",
              "    "
            ],
            "text/plain": [
              "<IPython.core.display.HTML object>"
            ]
          },
          "metadata": {
            "tags": []
          }
        },
        {
          "output_type": "stream",
          "text": [
            "LR Finder is complete, type {learner_name}.recorder.plot() to see the graph.\n"
          ],
          "name": "stdout"
        },
        {
          "output_type": "display_data",
          "data": {
            "image/png": "[encoded data removed]",
            "text/plain": [
              "<Figure size 432x288 with 1 Axes>"
            ]
          },
          "metadata": {
            "tags": [],
            "needs_background": "light"
          }
        }
      ]
    },
    {
      "cell_type": "markdown",
      "metadata": {
        "id": "M3d-BJaHSP_l"
      },
      "source": [
        "Retraining the whole Neural network instead of last layer. max_lr takes a slice argument. That is telling the model to linearly decrease learning rates as the models goes deeper.\n",
        "\n",
        "Earlier layers will have a smaller learning rate, latter one will have higher. This is due to the fact that as the models goes deeper, each layer learns to capture features that is more specific to the problem domain. We want the early layers to update less as they capture more general features such as edge and corners, which are usually general to many vision problems."
      ]
    },
    {
      "cell_type": "code",
      "metadata": {
        "id": "zBDOmipqSVTa",
        "colab": {
          "base_uri": "https://localhost:8080/",
          "height": 359
        },
        "outputId": "e9128d26-fc0c-49c7-f26d-2540ef77360d"
      },
      "source": [
        "learn.fit_one_cycle(10, max_lr=slice(1e-5, 1e-3))"
      ],
      "execution_count": null,
      "outputs": [
        {
          "output_type": "display_data",
          "data": {
            "text/html": [
              "<table border=\"1\" class=\"dataframe\">\n",
              "  <thead>\n",
              "    <tr style=\"text-align: left;\">\n",
              "      <th>epoch</th>\n",
              "      <th>train_loss</th>\n",
              "      <th>valid_loss</th>\n",
              "      <th>error_rate</th>\n",
              "      <th>time</th>\n",
              "    </tr>\n",
              "  </thead>\n",
              "  <tbody>\n",
              "    <tr>\n",
              "      <td>0</td>\n",
              "      <td>2.641788</td>\n",
              "      <td>1.300033</td>\n",
              "      <td>0.306511</td>\n",
              "      <td>05:30</td>\n",
              "    </tr>\n",
              "    <tr>\n",
              "      <td>1</td>\n",
              "      <td>2.895015</td>\n",
              "      <td>1.438750</td>\n",
              "      <td>0.354423</td>\n",
              "      <td>05:30</td>\n",
              "    </tr>\n",
              "    <tr>\n",
              "      <td>2</td>\n",
              "      <td>2.874367</td>\n",
              "      <td>1.346929</td>\n",
              "      <td>0.343366</td>\n",
              "      <td>05:30</td>\n",
              "    </tr>\n",
              "    <tr>\n",
              "      <td>3</td>\n",
              "      <td>2.577080</td>\n",
              "      <td>1.095169</td>\n",
              "      <td>0.291155</td>\n",
              "      <td>05:30</td>\n",
              "    </tr>\n",
              "    <tr>\n",
              "      <td>4</td>\n",
              "      <td>2.299426</td>\n",
              "      <td>0.895729</td>\n",
              "      <td>0.230344</td>\n",
              "      <td>05:31</td>\n",
              "    </tr>\n",
              "    <tr>\n",
              "      <td>5</td>\n",
              "      <td>2.105458</td>\n",
              "      <td>0.687512</td>\n",
              "      <td>0.180590</td>\n",
              "      <td>05:30</td>\n",
              "    </tr>\n",
              "    <tr>\n",
              "      <td>6</td>\n",
              "      <td>1.917517</td>\n",
              "      <td>0.586298</td>\n",
              "      <td>0.148034</td>\n",
              "      <td>05:29</td>\n",
              "    </tr>\n",
              "    <tr>\n",
              "      <td>7</td>\n",
              "      <td>1.721849</td>\n",
              "      <td>0.487464</td>\n",
              "      <td>0.117936</td>\n",
              "      <td>05:29</td>\n",
              "    </tr>\n",
              "    <tr>\n",
              "      <td>8</td>\n",
              "      <td>1.615074</td>\n",
              "      <td>0.444759</td>\n",
              "      <td>0.108108</td>\n",
              "      <td>05:29</td>\n",
              "    </tr>\n",
              "    <tr>\n",
              "      <td>9</td>\n",
              "      <td>1.575288</td>\n",
              "      <td>0.442484</td>\n",
              "      <td>0.108108</td>\n",
              "      <td>05:29</td>\n",
              "    </tr>\n",
              "  </tbody>\n",
              "</table>"
            ],
            "text/plain": [
              "<IPython.core.display.HTML object>"
            ]
          },
          "metadata": {
            "tags": []
          }
        }
      ]
    },
    {
      "cell_type": "code",
      "metadata": {
        "colab": {
          "base_uri": "https://localhost:8080/"
        },
        "id": "ffOt4ng9D859",
        "outputId": "46da2665-5a9f-493a-d705-c04c7f62b377"
      },
      "source": [
        "learn.save('Resnet152_unfreeze_step2',return_path=True)"
      ],
      "execution_count": null,
      "outputs": [
        {
          "output_type": "execute_result",
          "data": {
            "text/plain": [
              "PosixPath('/content/drive/MyDrive/CapstoneProject/tmp/model/Resnetmixup/Resnet152_unfreeze_step2.pth')"
            ]
          },
          "metadata": {
            "tags": []
          },
          "execution_count": 17
        }
      ]
    },
    {
      "cell_type": "code",
      "metadata": {
        "id": "P7glQb-KuuwV"
      },
      "source": [
        "# Testing data\n",
        "test_path = '/content/drive/MyDrive/CapstoneProject/Data/car_data/car_data/test/'\n",
        "test_data = ImageDataBunch.from_folder(f'{test_path}',valid_pct = 0,size = 224,seed=1984,bs = 64).normalize(imagenet_stats)"
      ],
      "execution_count": null,
      "outputs": []
    },
    {
      "cell_type": "code",
      "metadata": {
        "colab": {
          "base_uri": "https://localhost:8080/",
          "height": 34
        },
        "id": "MTXOC4RA31d5",
        "outputId": "07cdac58-3157-497d-bd05-218efe1e6a26"
      },
      "source": [
        "learn.data.valid_dl = test_data.train_dl\n",
        "learn.validate()"
      ],
      "execution_count": null,
      "outputs": [
        {
          "output_type": "display_data",
          "data": {
            "text/html": [
              ""
            ],
            "text/plain": [
              "<IPython.core.display.HTML object>"
            ]
          },
          "metadata": {
            "tags": []
          }
        },
        {
          "output_type": "execute_result",
          "data": {
            "text/plain": [
              "[0.6192779, tensor(0.1681)]"
            ]
          },
          "metadata": {
            "tags": []
          },
          "execution_count": 19
        }
      ]
    },
    {
      "cell_type": "markdown",
      "metadata": {
        "id": "CM7uEpcWTAbW"
      },
      "source": [
        "Reduce learning rate more\n",
        "Transfer Learning from a mixup model to one without\n",
        "Experiment with different weight decay"
      ]
    },
    {
      "cell_type": "code",
      "metadata": {
        "id": "8zLF0SwWS_Qm",
        "colab": {
          "base_uri": "https://localhost:8080/",
          "height": 35
        },
        "outputId": "c74f3e37-e517-4f4a-f1c9-623cf40e83f5"
      },
      "source": [
        "\"\"\"learn.lr_find()\n",
        "learn.recorder.plot()\"\"\""
      ],
      "execution_count": null,
      "outputs": [
        {
          "output_type": "execute_result",
          "data": {
            "application/vnd.google.colaboratory.intrinsic+json": {
              "type": "string"
            },
            "text/plain": [
              "'learn.lr_find()\\nlearn.recorder.plot()'"
            ]
          },
          "metadata": {
            "tags": []
          },
          "execution_count": 20
        }
      ]
    },
    {
      "cell_type": "code",
      "metadata": {
        "id": "fe20kHSRS5vM",
        "colab": {
          "base_uri": "https://localhost:8080/",
          "height": 250
        },
        "outputId": "df5627ae-4695-46fb-90e6-d5585099dfa3"
      },
      "source": [
        "learn.fit_one_cycle(7, max_lr=slice(1e-6, 1e-4))"
      ],
      "execution_count": null,
      "outputs": [
        {
          "output_type": "display_data",
          "data": {
            "text/html": [
              "\n",
              "    <div>\n",
              "        <style>\n",
              "            /* Turns off some styling */\n",
              "            progress {\n",
              "                /* gets rid of default border in Firefox and Opera. */\n",
              "                border: none;\n",
              "                /* Needs to be in here for Safari polyfill so background images work as expected. */\n",
              "                background-size: auto;\n",
              "            }\n",
              "            .progress-bar-interrupted, .progress-bar-interrupted::-webkit-progress-bar {\n",
              "                background: #F44336;\n",
              "            }\n",
              "        </style>\n",
              "      <progress value='5' class='' max='7' style='width:300px; height:20px; vertical-align: middle;'></progress>\n",
              "      71.43% [5/7 38:03<15:13]\n",
              "    </div>\n",
              "    \n",
              "<table border=\"1\" class=\"dataframe\">\n",
              "  <thead>\n",
              "    <tr style=\"text-align: left;\">\n",
              "      <th>epoch</th>\n",
              "      <th>train_loss</th>\n",
              "      <th>valid_loss</th>\n",
              "      <th>error_rate</th>\n",
              "      <th>time</th>\n",
              "    </tr>\n",
              "  </thead>\n",
              "  <tbody>\n",
              "    <tr>\n",
              "      <td>0</td>\n",
              "      <td>1.655855</td>\n",
              "      <td>0.615527</td>\n",
              "      <td>0.167750</td>\n",
              "      <td>07:35</td>\n",
              "    </tr>\n",
              "    <tr>\n",
              "      <td>1</td>\n",
              "      <td>1.568208</td>\n",
              "      <td>0.611421</td>\n",
              "      <td>0.163000</td>\n",
              "      <td>07:34</td>\n",
              "    </tr>\n",
              "    <tr>\n",
              "      <td>2</td>\n",
              "      <td>1.608186</td>\n",
              "      <td>0.603259</td>\n",
              "      <td>0.164625</td>\n",
              "      <td>07:36</td>\n",
              "    </tr>\n",
              "    <tr>\n",
              "      <td>3</td>\n",
              "      <td>1.589627</td>\n",
              "      <td>0.599653</td>\n",
              "      <td>0.160875</td>\n",
              "      <td>07:38</td>\n",
              "    </tr>\n",
              "    <tr>\n",
              "      <td>4</td>\n",
              "      <td>1.542508</td>\n",
              "      <td>0.583778</td>\n",
              "      <td>0.159000</td>\n",
              "      <td>07:37</td>\n",
              "    </tr>\n",
              "  </tbody>\n",
              "</table><p>\n",
              "\n",
              "    <div>\n",
              "        <style>\n",
              "            /* Turns off some styling */\n",
              "            progress {\n",
              "                /* gets rid of default border in Firefox and Opera. */\n",
              "                border: none;\n",
              "                /* Needs to be in here for Safari polyfill so background images work as expected. */\n",
              "                background-size: auto;\n",
              "            }\n",
              "            .progress-bar-interrupted, .progress-bar-interrupted::-webkit-progress-bar {\n",
              "                background: #F44336;\n",
              "            }\n",
              "        </style>\n",
              "      <progress value='126' class='' max='407' style='width:300px; height:20px; vertical-align: middle;'></progress>\n",
              "      30.96% [126/407 01:31<03:23 1.4602]\n",
              "    </div>\n",
              "    "
            ],
            "text/plain": [
              "<IPython.core.display.HTML object>"
            ]
          },
          "metadata": {
            "tags": []
          }
        }
      ]
    },
    {
      "cell_type": "code",
      "metadata": {
        "id": "dUmtDkqBS5xy"
      },
      "source": [
        "learn.save('Resnet152_unfreeze_step3',return_path=True)"
      ],
      "execution_count": null,
      "outputs": []
    },
    {
      "cell_type": "code",
      "metadata": {
        "id": "heoquVUNTp40"
      },
      "source": [
        "learn.fit_one_cycle(7, max_lr=slice(1e-6, 1e-4), wd=0.005) #adding weight decay"
      ],
      "execution_count": null,
      "outputs": []
    },
    {
      "cell_type": "code",
      "metadata": {
        "id": "RELAzz98S50Z"
      },
      "source": [
        "learn.save('Resnet152_unfreeze_step4',return_path=True)"
      ],
      "execution_count": null,
      "outputs": []
    },
    {
      "cell_type": "code",
      "metadata": {
        "id": "uckZI0l5Tw-W"
      },
      "source": [
        "\"\"\"learn.lr_find()\n",
        "learn.recorder.plot()\"\"\""
      ],
      "execution_count": null,
      "outputs": []
    },
    {
      "cell_type": "markdown",
      "metadata": {
        "id": "wbm-vg1XUTa1"
      },
      "source": [
        "Final test"
      ]
    },
    {
      "cell_type": "code",
      "metadata": {
        "id": "XwddadVtUZ20"
      },
      "source": [
        "learn.data.valid_dl = test_data.train_dl\n",
        "learn.validate()"
      ],
      "execution_count": null,
      "outputs": []
    },
    {
      "cell_type": "code",
      "metadata": {
        "id": "4yCaKZ-lD9DV"
      },
      "source": [
        "interp = ClassificationInterpretation.from_learner(learn)\n",
        "\n",
        "losses,idxs = interp.top_losses()\n",
        "\n",
        "len(data.valid_ds)==len(losses)==len(idxs)"
      ],
      "execution_count": null,
      "outputs": []
    },
    {
      "cell_type": "code",
      "metadata": {
        "id": "gxgd9wFaD9JK"
      },
      "source": [
        "interp.plot_top_losses(4, figsize=(14,14),heatmap=False)"
      ],
      "execution_count": null,
      "outputs": []
    },
    {
      "cell_type": "code",
      "metadata": {
        "id": "Q5tNVKHrD9Lx"
      },
      "source": [
        "interp.most_confused(min_val=2)"
      ],
      "execution_count": null,
      "outputs": []
    },
    {
      "cell_type": "code",
      "metadata": {
        "id": "B4u5zDqbCicm"
      },
      "source": [
        "input, target = learn.get_preds()"
      ],
      "execution_count": null,
      "outputs": []
    },
    {
      "cell_type": "code",
      "metadata": {
        "id": "bFNvwCsgCij2"
      },
      "source": [
        "print (top_k_accuracy(input=input, targs=target,k=1))"
      ],
      "execution_count": null,
      "outputs": []
    },
    {
      "cell_type": "code",
      "metadata": {
        "id": "ZzHwJ8rACim0"
      },
      "source": [
        "print (top_k_accuracy(input=input, targs=target,k=3))"
      ],
      "execution_count": null,
      "outputs": []
    },
    {
      "cell_type": "code",
      "metadata": {
        "id": "QF0zFxQWQ658"
      },
      "source": [
        ""
      ],
      "execution_count": null,
      "outputs": []
    },
    {
      "cell_type": "code",
      "metadata": {
        "id": "FW0fR2B1Q68r"
      },
      "source": [
        ""
      ],
      "execution_count": null,
      "outputs": []
    },
    {
      "cell_type": "code",
      "metadata": {
        "id": "yKIb1ArIQ6_b"
      },
      "source": [
        ""
      ],
      "execution_count": null,
      "outputs": []
    },
    {
      "cell_type": "code",
      "metadata": {
        "id": "pAJpTIH-Q7B2"
      },
      "source": [
        ""
      ],
      "execution_count": null,
      "outputs": []
    },
    {
      "cell_type": "code",
      "metadata": {
        "id": "Jpme6BM2Q7Ea"
      },
      "source": [
        ""
      ],
      "execution_count": null,
      "outputs": []
    }
  ]
}