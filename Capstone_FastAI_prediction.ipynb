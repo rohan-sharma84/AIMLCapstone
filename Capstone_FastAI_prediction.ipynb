{
  "nbformat": 4,
  "nbformat_minor": 0,
  "metadata": {
    "accelerator": "GPU",
    "colab": {
      "name": "Capstone_FastAI_prediction",
      "provenance": [],
      "collapsed_sections": [],
      "mount_file_id": "1W-p_5_jGwT3GQrJo2JOhR5JPsU0yJFj_",
      "authorship_tag": "ABX9TyPzVhFY7rwgEX0okzDM9KRR",
      "include_colab_link": true
    },
    "kernelspec": {
      "display_name": "Python 3",
      "name": "python3"
    }
  },
  "cells": [
    {
      "cell_type": "markdown",
      "metadata": {
        "id": "view-in-github",
        "colab_type": "text"
      },
      "source": [
        "<a href=\"https://colab.research.google.com/github/rohan-sharma84/AIMLCapstone/blob/main/Capstone_FastAI_prediction.ipynb\" target=\"_parent\"><img src=\"https://colab.research.google.com/assets/colab-badge.svg\" alt=\"Open In Colab\"/></a>"
      ]
    },
    {
      "cell_type": "code",
      "metadata": {
        "colab": {
          "base_uri": "https://localhost:8080/"
        },
        "id": "dYv1mDAtOCtO",
        "outputId": "d47f97e2-04f1-40d8-bae3-c390d7e5b165"
      },
      "source": [
        "from google.colab import drive\n",
        "drive.mount('/content/drive/')"
      ],
      "execution_count": 2,
      "outputs": [
        {
          "output_type": "stream",
          "text": [
            "Mounted at /content/drive/\n"
          ],
          "name": "stdout"
        }
      ]
    },
    {
      "cell_type": "code",
      "metadata": {
        "colab": {
          "base_uri": "https://localhost:8080/"
        },
        "id": "UhhyvnN1AUBS",
        "outputId": "3dc783b2-080c-411a-a820-a9de997693ed"
      },
      "source": [
        "import numpy as np\n",
        "import pandas as pd\n",
        "import matplotlib.pyplot as plt\n",
        "import h5py \n",
        "\n",
        "from fastai import *\n",
        "from fastai.vision import *\n",
        "from fastai.callbacks.hooks import *\n",
        "\n",
        "import torch\n",
        "print('pytorch version: ',torch.__version__)\n",
        "import torch.utils.data as data\n",
        "import fastai\n",
        "print('fastai version: ',fastai.__version__)\n",
        "import torchvision.models\n",
        "import warnings; warnings.filterwarnings('ignore')\n",
        "import torch\n",
        "torch.cuda.empty_cache()"
      ],
      "execution_count": 3,
      "outputs": [
        {
          "output_type": "stream",
          "text": [
            "pytorch version:  1.8.1+cu101\n",
            "fastai version:  1.0.61\n"
          ],
          "name": "stdout"
        }
      ]
    },
    {
      "cell_type": "code",
      "metadata": {
        "id": "Zi0UZ0P0BJHl"
      },
      "source": [
        "model_inf = load_learner('/content/drive/MyDrive/CapstoneProject/tmp/model/Resnetmixup/')"
      ],
      "execution_count": 4,
      "outputs": []
    },
    {
      "cell_type": "code",
      "metadata": {
        "id": "CLCzi1dcHkGV"
      },
      "source": [
        "image=open_image('/content/drive/MyDrive/CapstoneProject/Data/car_data/car_data/test/Audi S5 Coupe 2012/00186.jpg')"
      ],
      "execution_count": 59,
      "outputs": []
    },
    {
      "cell_type": "code",
      "metadata": {
        "colab": {
          "base_uri": "https://localhost:8080/",
          "height": 35
        },
        "id": "5rQRV1LNFaWj",
        "outputId": "208dd1c9-08be-49a7-e2fd-151bef13f959"
      },
      "source": [
        "pred_class,pred_idx,probs=model_inf.predict(image)\n",
        "model_inf.data.classes[int(pred_class)]\n"
      ],
      "execution_count": 60,
      "outputs": [
        {
          "output_type": "execute_result",
          "data": {
            "application/vnd.google.colaboratory.intrinsic+json": {
              "type": "string"
            },
            "text/plain": [
              "'Audi A5 Coupe 2012'"
            ]
          },
          "metadata": {
            "tags": []
          },
          "execution_count": 60
        }
      ]
    },
    {
      "cell_type": "code",
      "metadata": {
        "colab": {
          "base_uri": "https://localhost:8080/"
        },
        "id": "USpf7ZIpS0WX",
        "outputId": "d95f044e-26d7-44fd-af8e-bc443ffca460"
      },
      "source": [
        "print('The predicted car is:', model_inf.data.classes[int(pred_class)])\n",
        "print(\"The confidence level is\",float(probs[int(pred_class)])*100)"
      ],
      "execution_count": 61,
      "outputs": [
        {
          "output_type": "stream",
          "text": [
            "The predicted car is: Audi A5 Coupe 2012\n",
            "The confidence level is 80.22265434265137\n"
          ],
          "name": "stdout"
        }
      ]
    },
    {
      "cell_type": "code",
      "metadata": {
        "id": "v3HYqosbKce6"
      },
      "source": [
        "classes=model_inf.data.classes\n",
        "def top_5_preds(preds):    \n",
        "    preds_s = preds.argsort(descending=True)\n",
        "    preds_s=preds_s[:5]\n",
        "    return preds_s\n",
        "def top_5_pred_labels(preds, classes):\n",
        "    top_5 = top_5_preds(preds)\n",
        "    labels = []\n",
        "    confidence=[]\n",
        "    for i in top_5:\n",
        "        x=classes[i]\n",
        "        p=preds[i]\n",
        "        labels.append(x)\n",
        "        confidence.append(p)\n",
        "    return labels,confidence\n"
      ],
      "execution_count": 62,
      "outputs": []
    },
    {
      "cell_type": "code",
      "metadata": {
        "id": "fRs2tnY8M1ZP"
      },
      "source": [
        "top_5_predictions,top_5_confidence=top_5_pred_labels(probs,classes)"
      ],
      "execution_count": 63,
      "outputs": []
    },
    {
      "cell_type": "code",
      "metadata": {
        "colab": {
          "base_uri": "https://localhost:8080/"
        },
        "id": "PJ4GMBv7Odzp",
        "outputId": "77c2fa0f-9e35-473e-cc64-6db673db67db"
      },
      "source": [
        "top_5_predictions"
      ],
      "execution_count": 64,
      "outputs": [
        {
          "output_type": "execute_result",
          "data": {
            "text/plain": [
              "['Audi A5 Coupe 2012',\n",
              " 'Audi S5 Coupe 2012',\n",
              " 'Audi S4 Sedan 2012',\n",
              " 'Audi TTS Coupe 2012',\n",
              " 'Audi S5 Convertible 2012']"
            ]
          },
          "metadata": {
            "tags": []
          },
          "execution_count": 64
        }
      ]
    },
    {
      "cell_type": "code",
      "metadata": {
        "colab": {
          "base_uri": "https://localhost:8080/"
        },
        "id": "6w72hy89OhAX",
        "outputId": "86a9cae6-894b-45c8-b924-02fcba56f3e6"
      },
      "source": [
        "top_5_confidence"
      ],
      "execution_count": 65,
      "outputs": [
        {
          "output_type": "execute_result",
          "data": {
            "text/plain": [
              "[tensor(0.8022),\n",
              " tensor(0.1587),\n",
              " tensor(0.0166),\n",
              " tensor(0.0105),\n",
              " tensor(0.0063)]"
            ]
          },
          "metadata": {
            "tags": []
          },
          "execution_count": 65
        }
      ]
    }
  ]
}